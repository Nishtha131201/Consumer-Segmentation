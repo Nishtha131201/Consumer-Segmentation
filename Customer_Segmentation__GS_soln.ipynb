{
  "nbformat": 4,
  "nbformat_minor": 0,
  "metadata": {
    "colab": {
      "name": "Customer Segmentation _GS soln.ipynb",
      "provenance": [],
      "authorship_tag": "ABX9TyPnHbiO88hjuEtpSp+frrG8",
      "include_colab_link": true
    },
    "kernelspec": {
      "name": "python3",
      "display_name": "Python 3"
    }
  },
  "cells": [
    {
      "cell_type": "markdown",
      "metadata": {
        "id": "view-in-github",
        "colab_type": "text"
      },
      "source": [
        "<a href=\"https://colab.research.google.com/github/Nishtha131201/Consumer-Segmentation/blob/main/Customer_Segmentation__GS_soln.ipynb\" target=\"_parent\"><img src=\"https://colab.research.google.com/assets/colab-badge.svg\" alt=\"Open In Colab\"/></a>"
      ]
    },
    {
      "cell_type": "code",
      "metadata": {
        "colab": {
          "base_uri": "https://localhost:8080/"
        },
        "id": "BROn4hoGWcga",
        "outputId": "eab1a4aa-f56a-49f6-c5a8-06b4c9dde287"
      },
      "source": [
        "#Importing Libraries\r\n",
        "import pandas as pd\r\n",
        "import matplotlib.pyplot as plt\r\n",
        "import numpy as np\r\n",
        "import seaborn as sns\r\n",
        "import warnings\r\n",
        "warnings.filterwarnings(\"ignore\")\r\n",
        "\r\n",
        "#Importing dataset\r\n",
        "df = pd.read_excel('/content/Online Retail.xlsx')\r\n",
        "\r\n",
        "#Sampling dataset\r\n",
        "df_fix = df.sample(10000, random_state = 42)\r\n",
        "df_fix.shape\r\n"
      ],
      "execution_count": 7,
      "outputs": [
        {
          "output_type": "execute_result",
          "data": {
            "text/plain": [
              "(10000, 8)"
            ]
          },
          "metadata": {
            "tags": []
          },
          "execution_count": 7
        }
      ]
    },
    {
      "cell_type": "code",
      "metadata": {
        "id": "07Efjc8KYtPx"
      },
      "source": [
        "df = df[df['CustomerID'].notna()]"
      ],
      "execution_count": 10,
      "outputs": []
    },
    {
      "cell_type": "code",
      "metadata": {
        "colab": {
          "base_uri": "https://localhost:8080/",
          "height": 195
        },
        "id": "ZTMf3spyYyT4",
        "outputId": "e688ea8e-2d24-4619-9298-97ce90d3f4c0"
      },
      "source": [
        "df_fix.head()"
      ],
      "execution_count": 12,
      "outputs": [
        {
          "output_type": "execute_result",
          "data": {
            "text/html": [
              "<div>\n",
              "<style scoped>\n",
              "    .dataframe tbody tr th:only-of-type {\n",
              "        vertical-align: middle;\n",
              "    }\n",
              "\n",
              "    .dataframe tbody tr th {\n",
              "        vertical-align: top;\n",
              "    }\n",
              "\n",
              "    .dataframe thead th {\n",
              "        text-align: right;\n",
              "    }\n",
              "</style>\n",
              "<table border=\"1\" class=\"dataframe\">\n",
              "  <thead>\n",
              "    <tr style=\"text-align: right;\">\n",
              "      <th></th>\n",
              "      <th>InvoiceNo</th>\n",
              "      <th>StockCode</th>\n",
              "      <th>Description</th>\n",
              "      <th>Quantity</th>\n",
              "      <th>InvoiceDate</th>\n",
              "      <th>UnitPrice</th>\n",
              "      <th>CustomerID</th>\n",
              "      <th>Country</th>\n",
              "    </tr>\n",
              "  </thead>\n",
              "  <tbody>\n",
              "    <tr>\n",
              "      <th>47912</th>\n",
              "      <td>540456</td>\n",
              "      <td>48185</td>\n",
              "      <td>DOORMAT FAIRY CAKE</td>\n",
              "      <td>2</td>\n",
              "      <td>2011-01-07 12:14:00</td>\n",
              "      <td>7.95</td>\n",
              "      <td>13534.0</td>\n",
              "      <td>United Kingdom</td>\n",
              "    </tr>\n",
              "    <tr>\n",
              "      <th>342630</th>\n",
              "      <td>566891</td>\n",
              "      <td>23013</td>\n",
              "      <td>GLASS APOTHECARY BOTTLE TONIC</td>\n",
              "      <td>4</td>\n",
              "      <td>2011-09-15 13:51:00</td>\n",
              "      <td>3.95</td>\n",
              "      <td>14894.0</td>\n",
              "      <td>United Kingdom</td>\n",
              "    </tr>\n",
              "    <tr>\n",
              "      <th>288183</th>\n",
              "      <td>C562139</td>\n",
              "      <td>21313</td>\n",
              "      <td>GLASS HEART T-LIGHT HOLDER</td>\n",
              "      <td>-4</td>\n",
              "      <td>2011-08-03 10:10:00</td>\n",
              "      <td>0.85</td>\n",
              "      <td>12921.0</td>\n",
              "      <td>United Kingdom</td>\n",
              "    </tr>\n",
              "    <tr>\n",
              "      <th>325368</th>\n",
              "      <td>565438</td>\n",
              "      <td>22382</td>\n",
              "      <td>LUNCH BAG SPACEBOY DESIGN</td>\n",
              "      <td>4</td>\n",
              "      <td>2011-09-04 13:56:00</td>\n",
              "      <td>1.65</td>\n",
              "      <td>17229.0</td>\n",
              "      <td>United Kingdom</td>\n",
              "    </tr>\n",
              "    <tr>\n",
              "      <th>331450</th>\n",
              "      <td>566016</td>\n",
              "      <td>21212</td>\n",
              "      <td>PACK OF 72 RETROSPOT CAKE CASES</td>\n",
              "      <td>24</td>\n",
              "      <td>2011-09-08 12:20:00</td>\n",
              "      <td>0.55</td>\n",
              "      <td>15144.0</td>\n",
              "      <td>United Kingdom</td>\n",
              "    </tr>\n",
              "  </tbody>\n",
              "</table>\n",
              "</div>"
            ],
            "text/plain": [
              "       InvoiceNo StockCode  ... CustomerID         Country\n",
              "47912     540456     48185  ...    13534.0  United Kingdom\n",
              "342630    566891     23013  ...    14894.0  United Kingdom\n",
              "288183   C562139     21313  ...    12921.0  United Kingdom\n",
              "325368    565438     22382  ...    17229.0  United Kingdom\n",
              "331450    566016     21212  ...    15144.0  United Kingdom\n",
              "\n",
              "[5 rows x 8 columns]"
            ]
          },
          "metadata": {
            "tags": []
          },
          "execution_count": 12
        }
      ]
    },
    {
      "cell_type": "code",
      "metadata": {
        "id": "aqMr1zwmY053"
      },
      "source": [
        "# Convert to show date only\r\n",
        "from datetime import datetime\r\n",
        "df_fix[\"InvoiceDate\"] = df_fix[\"InvoiceDate\"].dt.date\r\n",
        "\r\n",
        "# Create TotalSum colummn\r\n",
        "df_fix[\"TotalSum\"] = df_fix[\"Quantity\"] * df_fix[\"UnitPrice\"]\r\n",
        "\r\n",
        "# Create date variable that records recency\r\n",
        "import datetime\r\n",
        "snapshot_date = max(df_fix.InvoiceDate) + datetime.timedelta(days=1)\r\n",
        "\r\n",
        "# Aggregate data by each customer\r\n",
        "customers = df_fix.groupby(['CustomerID']).agg({\r\n",
        "    'InvoiceDate': lambda x: (snapshot_date - x.max()).days,\r\n",
        "    'InvoiceNo': 'count',\r\n",
        "    'TotalSum': 'sum'})\r\n",
        "\r\n",
        "# Rename columns\r\n",
        "customers.rename(columns = {'InvoiceDate': 'Recency',\r\n",
        "                            'InvoiceNo': 'Frequency',\r\n",
        "                            'TotalSum': 'MonetaryValue'}, inplace=True)"
      ],
      "execution_count": 13,
      "outputs": []
    },
    {
      "cell_type": "code",
      "metadata": {
        "colab": {
          "base_uri": "https://localhost:8080/",
          "height": 225
        },
        "id": "fYz8Hf2zY5g9",
        "outputId": "3af72557-3b88-46e1-d597-384757f97feb"
      },
      "source": [
        "customers.head()"
      ],
      "execution_count": 14,
      "outputs": [
        {
          "output_type": "execute_result",
          "data": {
            "text/html": [
              "<div>\n",
              "<style scoped>\n",
              "    .dataframe tbody tr th:only-of-type {\n",
              "        vertical-align: middle;\n",
              "    }\n",
              "\n",
              "    .dataframe tbody tr th {\n",
              "        vertical-align: top;\n",
              "    }\n",
              "\n",
              "    .dataframe thead th {\n",
              "        text-align: right;\n",
              "    }\n",
              "</style>\n",
              "<table border=\"1\" class=\"dataframe\">\n",
              "  <thead>\n",
              "    <tr style=\"text-align: right;\">\n",
              "      <th></th>\n",
              "      <th>Recency</th>\n",
              "      <th>Frequency</th>\n",
              "      <th>MonetaryValue</th>\n",
              "    </tr>\n",
              "    <tr>\n",
              "      <th>CustomerID</th>\n",
              "      <th></th>\n",
              "      <th></th>\n",
              "      <th></th>\n",
              "    </tr>\n",
              "  </thead>\n",
              "  <tbody>\n",
              "    <tr>\n",
              "      <th>12347.0</th>\n",
              "      <td>40</td>\n",
              "      <td>5</td>\n",
              "      <td>133.20</td>\n",
              "    </tr>\n",
              "    <tr>\n",
              "      <th>12348.0</th>\n",
              "      <td>249</td>\n",
              "      <td>2</td>\n",
              "      <td>120.88</td>\n",
              "    </tr>\n",
              "    <tr>\n",
              "      <th>12349.0</th>\n",
              "      <td>19</td>\n",
              "      <td>2</td>\n",
              "      <td>312.75</td>\n",
              "    </tr>\n",
              "    <tr>\n",
              "      <th>12352.0</th>\n",
              "      <td>73</td>\n",
              "      <td>5</td>\n",
              "      <td>80.85</td>\n",
              "    </tr>\n",
              "    <tr>\n",
              "      <th>12354.0</th>\n",
              "      <td>233</td>\n",
              "      <td>2</td>\n",
              "      <td>33.30</td>\n",
              "    </tr>\n",
              "  </tbody>\n",
              "</table>\n",
              "</div>"
            ],
            "text/plain": [
              "            Recency  Frequency  MonetaryValue\n",
              "CustomerID                                   \n",
              "12347.0          40          5         133.20\n",
              "12348.0         249          2         120.88\n",
              "12349.0          19          2         312.75\n",
              "12352.0          73          5          80.85\n",
              "12354.0         233          2          33.30"
            ]
          },
          "metadata": {
            "tags": []
          },
          "execution_count": 14
        }
      ]
    },
    {
      "cell_type": "code",
      "metadata": {
        "colab": {
          "base_uri": "https://localhost:8080/",
          "height": 225
        },
        "id": "pjAMB5dAY8Dw",
        "outputId": "31d34421-6167-462c-d3f5-8002c2b80e1a"
      },
      "source": [
        "fig, ax = plt.subplots(1, 3, figsize=(15,3))\r\n",
        "sns.distplot(customers['Recency'], ax=ax[0])\r\n",
        "sns.distplot(customers['Frequency'], ax=ax[1])\r\n",
        "sns.distplot(customers['MonetaryValue'], ax=ax[2])\r\n",
        "plt.tight_layout()\r\n",
        "plt.show()"
      ],
      "execution_count": 15,
      "outputs": [
        {
          "output_type": "display_data",
          "data": {
            "image/png": "[encoded data removed]",
            "text/plain": [
              "<Figure size 1080x216 with 3 Axes>"
            ]
          },
          "metadata": {
            "tags": [],
            "needs_background": "light"
          }
        }
      ]
    },
    {
      "cell_type": "code",
      "metadata": {
        "id": "DlIV6PU7ZiZ2"
      },
      "source": [
        "from scipy import stats\r\n",
        "def analyze_skewness(x):\r\n",
        "    fig, ax = plt.subplots(1, 4, figsize=(30,5))\r\n",
        "    sns.distplot(customers[x], ax=ax[0])\r\n",
        "    sns.distplot(np.log(customers[x]), ax=ax[1])\r\n",
        "    sns.distplot(np.sqrt(customers[x]), ax=ax[2])\r\n",
        "    sns.distplot(stats.boxcox(customers[x])[0], ax=ax[3])\r\n",
        "    plt.tight_layout()\r\n",
        "    plt.show()\r\n",
        "    \r\n",
        "    print(customers[x].skew().round(2))\r\n",
        "    print(np.log(customers[x]).skew().round(2))\r\n",
        "    print(np.sqrt(customers[x]).skew().round(2))\r\n",
        "    print(pd.Series(stats.boxcox(customers[x])[0]).skew().round(2))"
      ],
      "execution_count": 50,
      "outputs": []
    },
    {
      "cell_type": "code",
      "metadata": {
        "colab": {
          "base_uri": "https://localhost:8080/",
          "height": 315
        },
        "id": "5jRiGB4UZneL",
        "outputId": "36b7492a-3d1c-43e0-df95-0a8ef6b46171"
      },
      "source": [
        "analyze_skewness('Recency')"
      ],
      "execution_count": 51,
      "outputs": [
        {
          "output_type": "display_data",
          "data": {
            "image/png": "[encoded data removed]",
            "text/plain": [
              "<Figure size 2160x360 with 4 Axes>"
            ]
          },
          "metadata": {
            "tags": [],
            "needs_background": "light"
          }
        },
        {
          "output_type": "stream",
          "text": [
            "0.93\n",
            "-0.72\n",
            "0.32\n",
            "-0.1\n"
          ],
          "name": "stdout"
        }
      ]
    },
    {
      "cell_type": "code",
      "metadata": {
        "colab": {
          "base_uri": "https://localhost:8080/",
          "height": 315
        },
        "id": "Htwcz8GgZqzM",
        "outputId": "94b8ae88-ae4b-4aec-f554-473f1b9d1433"
      },
      "source": [
        "analyze_skewness('Frequency')\r\n"
      ],
      "execution_count": 59,
      "outputs": [
        {
          "output_type": "display_data",
          "data": {
            "image/png": "[encoded data removed]",
            "text/plain": [
              "<Figure size 2160x360 with 4 Axes>"
            ]
          },
          "metadata": {
            "tags": [],
            "needs_background": "light"
          }
        },
        {
          "output_type": "stream",
          "text": [
            "14.77\n",
            "0.85\n",
            "3.67\n",
            "0.16\n"
          ],
          "name": "stdout"
        }
      ]
    },
    {
      "cell_type": "code",
      "metadata": {
        "colab": {
          "base_uri": "https://localhost:8080/"
        },
        "id": "FM3zjFDEBZ9f",
        "outputId": "62d194c8-ed67-4206-c77f-f66825e49574"
      },
      "source": [
        "print(\"variable, log, sqrt, box-cox\")\r\n",
        "print(\"Recency\", np.log(customers[\"Recency\"]).skew().round(2), np.sqrt(customers[\"Recency\"]).skew().round(2), pd.Series(stats.boxcox(customers[\"Recency\"])[0]).skew().round(2))\r\n",
        "print(\"Frequency\", np.log(customers[\"Frequency\"]).skew().round(2), np.sqrt(customers[\"Frequency\"]).skew().round(2), pd.Series(stats.boxcox(customers[\"Frequency\"])[0]).skew().round(2))\r\n"
      ],
      "execution_count": 61,
      "outputs": [
        {
          "output_type": "stream",
          "text": [
            "variable, log, sqrt, box-cox\n",
            "Recency -0.72 0.32 -0.1\n",
            "Frequency 0.85 3.67 0.16\n"
          ],
          "name": "stdout"
        }
      ]
    },
    {
      "cell_type": "code",
      "metadata": {
        "colab": {
          "base_uri": "https://localhost:8080/",
          "height": 258
        },
        "id": "wSB1bEicZtjY",
        "outputId": "29348445-d889-4605-bdda-9de97ac65eb6"
      },
      "source": [
        "fig, ax = plt.subplots(1, 2, figsize=(10,3))\r\n",
        "sns.distplot(customers['MonetaryValue'], ax=ax[0])\r\n",
        "sns.distplot(np.cbrt(customers['MonetaryValue']), ax=ax[1])\r\n",
        "plt.show()\r\n",
        "print(customers['MonetaryValue'].skew().round(2))\r\n",
        "print(np.cbrt(customers['MonetaryValue']).skew().round(2))"
      ],
      "execution_count": 33,
      "outputs": [
        {
          "output_type": "display_data",
          "data": {
            "image/png": "[encoded data removed]",
            "text/plain": [
              "<Figure size 720x216 with 2 Axes>"
            ]
          },
          "metadata": {
            "tags": [],
            "needs_background": "light"
          }
        },
        {
          "output_type": "stream",
          "text": [
            "16.63\n",
            "1.16\n"
          ],
          "name": "stdout"
        }
      ]
    },
    {
      "cell_type": "code",
      "metadata": {
        "colab": {
          "base_uri": "https://localhost:8080/"
        },
        "id": "03DScbQxZwDd",
        "outputId": "238bfbf6-e974-41f6-aa81-729afd9a441f"
      },
      "source": [
        "pd.Series(np.cbrt(customers['MonetaryValue'])).values"
      ],
      "execution_count": 34,
      "outputs": [
        {
          "output_type": "execute_result",
          "data": {
            "text/plain": [
              "array([ 5.10702607,  4.94445183,  6.78785317, ..., -1.66910753,\n",
              "        4.27320639,  4.0872497 ])"
            ]
          },
          "metadata": {
            "tags": []
          },
          "execution_count": 34
        }
      ]
    },
    {
      "cell_type": "code",
      "metadata": {
        "colab": {
          "base_uri": "https://localhost:8080/",
          "height": 195
        },
        "id": "P49Oq0G8Z00d",
        "outputId": "d2676080-380f-4fee-d58c-7beb0f07ad7f"
      },
      "source": [
        "# Set the Numbers\r\n",
        "customers_fix = pd.DataFrame()\r\n",
        "customers_fix[\"Recency\"] = stats.boxcox(customers['Recency'])[0]\r\n",
        "customers_fix[\"Frequency\"] = stats.boxcox(customers['Frequency'])[0]\r\n",
        "customers_fix[\"MonetaryValue\"] = pd.Series(np.cbrt(customers['MonetaryValue'])).values\r\n",
        "customers_fix.tail()"
      ],
      "execution_count": 35,
      "outputs": [
        {
          "output_type": "execute_result",
          "data": {
            "text/html": [
              "<div>\n",
              "<style scoped>\n",
              "    .dataframe tbody tr th:only-of-type {\n",
              "        vertical-align: middle;\n",
              "    }\n",
              "\n",
              "    .dataframe tbody tr th {\n",
              "        vertical-align: top;\n",
              "    }\n",
              "\n",
              "    .dataframe thead th {\n",
              "        text-align: right;\n",
              "    }\n",
              "</style>\n",
              "<table border=\"1\" class=\"dataframe\">\n",
              "  <thead>\n",
              "    <tr style=\"text-align: right;\">\n",
              "      <th></th>\n",
              "      <th>Recency</th>\n",
              "      <th>Frequency</th>\n",
              "      <th>MonetaryValue</th>\n",
              "    </tr>\n",
              "  </thead>\n",
              "  <tbody>\n",
              "    <tr>\n",
              "      <th>2685</th>\n",
              "      <td>7.832068</td>\n",
              "      <td>0.591193</td>\n",
              "      <td>3.408514</td>\n",
              "    </tr>\n",
              "    <tr>\n",
              "      <th>2686</th>\n",
              "      <td>1.269495</td>\n",
              "      <td>1.435599</td>\n",
              "      <td>5.907565</td>\n",
              "    </tr>\n",
              "    <tr>\n",
              "      <th>2687</th>\n",
              "      <td>4.288385</td>\n",
              "      <td>0.591193</td>\n",
              "      <td>-1.669108</td>\n",
              "    </tr>\n",
              "    <tr>\n",
              "      <th>2688</th>\n",
              "      <td>1.665555</td>\n",
              "      <td>1.615329</td>\n",
              "      <td>4.273206</td>\n",
              "    </tr>\n",
              "    <tr>\n",
              "      <th>2689</th>\n",
              "      <td>6.340700</td>\n",
              "      <td>1.017445</td>\n",
              "      <td>4.087250</td>\n",
              "    </tr>\n",
              "  </tbody>\n",
              "</table>\n",
              "</div>"
            ],
            "text/plain": [
              "       Recency  Frequency  MonetaryValue\n",
              "2685  7.832068   0.591193       3.408514\n",
              "2686  1.269495   1.435599       5.907565\n",
              "2687  4.288385   0.591193      -1.669108\n",
              "2688  1.665555   1.615329       4.273206\n",
              "2689  6.340700   1.017445       4.087250"
            ]
          },
          "metadata": {
            "tags": []
          },
          "execution_count": 35
        }
      ]
    },
    {
      "cell_type": "code",
      "metadata": {
        "colab": {
          "base_uri": "https://localhost:8080/"
        },
        "id": "II3eH18pZ1es",
        "outputId": "9313ff24-9795-401d-f3b1-c614068b2b1c"
      },
      "source": [
        "from sklearn.preprocessing import StandardScaler\r\n",
        "scaler = StandardScaler()\r\n",
        "scaler.fit(customers_fix)\r\n",
        "customers_normalized = scaler.transform(customers_fix)\r\n",
        "print(customers_normalized.mean(axis = 0).round(2))\r\n",
        "print(customers_normalized.std(axis = 0).round(2))"
      ],
      "execution_count": 36,
      "outputs": [
        {
          "output_type": "stream",
          "text": [
            "[ 0. -0.  0.]\n",
            "[1. 1. 1.]\n"
          ],
          "name": "stdout"
        }
      ]
    },
    {
      "cell_type": "code",
      "metadata": {
        "colab": {
          "base_uri": "https://localhost:8080/",
          "height": 195
        },
        "id": "Bz87QuUVZ35j",
        "outputId": "6bb4d064-1bcb-4f09-ed05-b1b9f3c5739c"
      },
      "source": [
        "pd.DataFrame(customers_normalized).head()"
      ],
      "execution_count": 37,
      "outputs": [
        {
          "output_type": "execute_result",
          "data": {
            "text/html": [
              "<div>\n",
              "<style scoped>\n",
              "    .dataframe tbody tr th:only-of-type {\n",
              "        vertical-align: middle;\n",
              "    }\n",
              "\n",
              "    .dataframe tbody tr th {\n",
              "        vertical-align: top;\n",
              "    }\n",
              "\n",
              "    .dataframe thead th {\n",
              "        text-align: right;\n",
              "    }\n",
              "</style>\n",
              "<table border=\"1\" class=\"dataframe\">\n",
              "  <thead>\n",
              "    <tr style=\"text-align: right;\">\n",
              "      <th></th>\n",
              "      <th>0</th>\n",
              "      <th>1</th>\n",
              "      <th>2</th>\n",
              "    </tr>\n",
              "  </thead>\n",
              "  <tbody>\n",
              "    <tr>\n",
              "      <th>0</th>\n",
              "      <td>-0.493794</td>\n",
              "      <td>1.012426</td>\n",
              "      <td>1.017503</td>\n",
              "    </tr>\n",
              "    <tr>\n",
              "      <th>1</th>\n",
              "      <td>1.232949</td>\n",
              "      <td>-0.017412</td>\n",
              "      <td>0.925115</td>\n",
              "    </tr>\n",
              "    <tr>\n",
              "      <th>2</th>\n",
              "      <td>-0.994917</td>\n",
              "      <td>-0.017412</td>\n",
              "      <td>1.972690</td>\n",
              "    </tr>\n",
              "    <tr>\n",
              "      <th>3</th>\n",
              "      <td>-0.012582</td>\n",
              "      <td>1.012426</td>\n",
              "      <td>0.572565</td>\n",
              "    </tr>\n",
              "    <tr>\n",
              "      <th>4</th>\n",
              "      <td>1.155005</td>\n",
              "      <td>-0.017412</td>\n",
              "      <td>-0.056441</td>\n",
              "    </tr>\n",
              "  </tbody>\n",
              "</table>\n",
              "</div>"
            ],
            "text/plain": [
              "          0         1         2\n",
              "0 -0.493794  1.012426  1.017503\n",
              "1  1.232949 -0.017412  0.925115\n",
              "2 -0.994917 -0.017412  1.972690\n",
              "3 -0.012582  1.012426  0.572565\n",
              "4  1.155005 -0.017412 -0.056441"
            ]
          },
          "metadata": {
            "tags": []
          },
          "execution_count": 37
        }
      ]
    },
    {
      "cell_type": "code",
      "metadata": {
        "colab": {
          "base_uri": "https://localhost:8080/",
          "height": 295
        },
        "id": "s1GQonV9Z6Ue",
        "outputId": "10d4e7a1-5977-48d8-c4c9-46ced96fd777"
      },
      "source": [
        "from sklearn.cluster import KMeans\r\n",
        "\r\n",
        "sse = {}\r\n",
        "for k in range(1, 11):\r\n",
        "    kmeans = KMeans(n_clusters=k, random_state=42)\r\n",
        "    kmeans.fit(customers_normalized)\r\n",
        "    sse[k] = kmeans.inertia_ # SSE to closest cluster centroid\r\n",
        "\r\n",
        "plt.title('The Elbow Method')\r\n",
        "plt.xlabel('k')\r\n",
        "plt.ylabel('SSE')\r\n",
        "sns.pointplot(x=list(sse.keys()), y=list(sse.values()))\r\n",
        "plt.show()"
      ],
      "execution_count": 38,
      "outputs": [
        {
          "output_type": "display_data",
          "data": {
            "image/png": "[encoded data removed]",
            "text/plain": [
              "<Figure size 432x288 with 1 Axes>"
            ]
          },
          "metadata": {
            "tags": [],
            "needs_background": "light"
          }
        }
      ]
    },
    {
      "cell_type": "code",
      "metadata": {
        "colab": {
          "base_uri": "https://localhost:8080/"
        },
        "id": "JLCJ3FAKZ-BI",
        "outputId": "8bd5d921-26d3-4d88-8114-644b0c41d5b2"
      },
      "source": [
        "model = KMeans(n_clusters=3, random_state=42)\r\n",
        "model.fit(customers_normalized)\r\n",
        "model.labels_.shape"
      ],
      "execution_count": 39,
      "outputs": [
        {
          "output_type": "execute_result",
          "data": {
            "text/plain": [
              "(2690,)"
            ]
          },
          "metadata": {
            "tags": []
          },
          "execution_count": 39
        }
      ]
    },
    {
      "cell_type": "code",
      "metadata": {
        "colab": {
          "base_uri": "https://localhost:8080/"
        },
        "id": "1yCVee7faA7S",
        "outputId": "9f21e1aa-809e-45dd-f4cf-a99625329c18"
      },
      "source": [
        "customers.shape"
      ],
      "execution_count": 40,
      "outputs": [
        {
          "output_type": "execute_result",
          "data": {
            "text/plain": [
              "(2690, 3)"
            ]
          },
          "metadata": {
            "tags": []
          },
          "execution_count": 40
        }
      ]
    },
    {
      "cell_type": "code",
      "metadata": {
        "colab": {
          "base_uri": "https://localhost:8080/",
          "height": 225
        },
        "id": "SDAlKHDqaDKm",
        "outputId": "925ce357-1225-44f0-b2b9-5df2fb04b29e"
      },
      "source": [
        "customers[\"Cluster\"] = model.labels_\r\n",
        "customers.head()"
      ],
      "execution_count": 41,
      "outputs": [
        {
          "output_type": "execute_result",
          "data": {
            "text/html": [
              "<div>\n",
              "<style scoped>\n",
              "    .dataframe tbody tr th:only-of-type {\n",
              "        vertical-align: middle;\n",
              "    }\n",
              "\n",
              "    .dataframe tbody tr th {\n",
              "        vertical-align: top;\n",
              "    }\n",
              "\n",
              "    .dataframe thead th {\n",
              "        text-align: right;\n",
              "    }\n",
              "</style>\n",
              "<table border=\"1\" class=\"dataframe\">\n",
              "  <thead>\n",
              "    <tr style=\"text-align: right;\">\n",
              "      <th></th>\n",
              "      <th>Recency</th>\n",
              "      <th>Frequency</th>\n",
              "      <th>MonetaryValue</th>\n",
              "      <th>Cluster</th>\n",
              "    </tr>\n",
              "    <tr>\n",
              "      <th>CustomerID</th>\n",
              "      <th></th>\n",
              "      <th></th>\n",
              "      <th></th>\n",
              "      <th></th>\n",
              "    </tr>\n",
              "  </thead>\n",
              "  <tbody>\n",
              "    <tr>\n",
              "      <th>12347.0</th>\n",
              "      <td>40</td>\n",
              "      <td>5</td>\n",
              "      <td>133.20</td>\n",
              "      <td>2</td>\n",
              "    </tr>\n",
              "    <tr>\n",
              "      <th>12348.0</th>\n",
              "      <td>249</td>\n",
              "      <td>2</td>\n",
              "      <td>120.88</td>\n",
              "      <td>1</td>\n",
              "    </tr>\n",
              "    <tr>\n",
              "      <th>12349.0</th>\n",
              "      <td>19</td>\n",
              "      <td>2</td>\n",
              "      <td>312.75</td>\n",
              "      <td>2</td>\n",
              "    </tr>\n",
              "    <tr>\n",
              "      <th>12352.0</th>\n",
              "      <td>73</td>\n",
              "      <td>5</td>\n",
              "      <td>80.85</td>\n",
              "      <td>2</td>\n",
              "    </tr>\n",
              "    <tr>\n",
              "      <th>12354.0</th>\n",
              "      <td>233</td>\n",
              "      <td>2</td>\n",
              "      <td>33.30</td>\n",
              "      <td>1</td>\n",
              "    </tr>\n",
              "  </tbody>\n",
              "</table>\n",
              "</div>"
            ],
            "text/plain": [
              "            Recency  Frequency  MonetaryValue  Cluster\n",
              "CustomerID                                            \n",
              "12347.0          40          5         133.20        2\n",
              "12348.0         249          2         120.88        1\n",
              "12349.0          19          2         312.75        2\n",
              "12352.0          73          5          80.85        2\n",
              "12354.0         233          2          33.30        1"
            ]
          },
          "metadata": {
            "tags": []
          },
          "execution_count": 41
        }
      ]
    },
    {
      "cell_type": "code",
      "metadata": {
        "colab": {
          "base_uri": "https://localhost:8080/",
          "height": 195
        },
        "id": "8odWDcCyaFsI",
        "outputId": "10876777-086f-4540-f5c5-e0fd956fca61"
      },
      "source": [
        "customers.groupby('Cluster').agg({\r\n",
        "    'Recency':'mean',\r\n",
        "    'Frequency':'mean',\r\n",
        "    'MonetaryValue':['mean', 'count']}).round(2)"
      ],
      "execution_count": 62,
      "outputs": [
        {
          "output_type": "execute_result",
          "data": {
            "text/html": [
              "<div>\n",
              "<style scoped>\n",
              "    .dataframe tbody tr th:only-of-type {\n",
              "        vertical-align: middle;\n",
              "    }\n",
              "\n",
              "    .dataframe tbody tr th {\n",
              "        vertical-align: top;\n",
              "    }\n",
              "\n",
              "    .dataframe thead tr th {\n",
              "        text-align: left;\n",
              "    }\n",
              "\n",
              "    .dataframe thead tr:last-of-type th {\n",
              "        text-align: right;\n",
              "    }\n",
              "</style>\n",
              "<table border=\"1\" class=\"dataframe\">\n",
              "  <thead>\n",
              "    <tr>\n",
              "      <th></th>\n",
              "      <th>Recency</th>\n",
              "      <th>Frequency</th>\n",
              "      <th colspan=\"2\" halign=\"left\">MonetaryValue</th>\n",
              "    </tr>\n",
              "    <tr>\n",
              "      <th></th>\n",
              "      <th>mean</th>\n",
              "      <th>mean</th>\n",
              "      <th>mean</th>\n",
              "      <th>count</th>\n",
              "    </tr>\n",
              "    <tr>\n",
              "      <th>Cluster</th>\n",
              "      <th></th>\n",
              "      <th></th>\n",
              "      <th></th>\n",
              "      <th></th>\n",
              "    </tr>\n",
              "  </thead>\n",
              "  <tbody>\n",
              "    <tr>\n",
              "      <th>0</th>\n",
              "      <td>47.29</td>\n",
              "      <td>1.61</td>\n",
              "      <td>21.57</td>\n",
              "      <td>808</td>\n",
              "    </tr>\n",
              "    <tr>\n",
              "      <th>1</th>\n",
              "      <td>226.77</td>\n",
              "      <td>1.64</td>\n",
              "      <td>28.67</td>\n",
              "      <td>959</td>\n",
              "    </tr>\n",
              "    <tr>\n",
              "      <th>2</th>\n",
              "      <td>46.29</td>\n",
              "      <td>7.72</td>\n",
              "      <td>165.91</td>\n",
              "      <td>923</td>\n",
              "    </tr>\n",
              "  </tbody>\n",
              "</table>\n",
              "</div>"
            ],
            "text/plain": [
              "        Recency Frequency MonetaryValue      \n",
              "           mean      mean          mean count\n",
              "Cluster                                      \n",
              "0         47.29      1.61         21.57   808\n",
              "1        226.77      1.64         28.67   959\n",
              "2         46.29      7.72        165.91   923"
            ]
          },
          "metadata": {
            "tags": []
          },
          "execution_count": 62
        }
      ]
    },
    {
      "cell_type": "code",
      "metadata": {
        "colab": {
          "base_uri": "https://localhost:8080/",
          "height": 195
        },
        "id": "cxlNSa__bvxp",
        "outputId": "295fa33d-a4b9-48dd-aa18-b3719d89a11f"
      },
      "source": [
        "df_normalized = pd.DataFrame(customers_normalized, columns=['Recency', 'Frequency', 'MonetaryValue'])\r\n",
        "df_normalized['ID'] = customers.index\r\n",
        "df_normalized['Cluster'] = model.labels_\r\n",
        "df_normalized.head()"
      ],
      "execution_count": 43,
      "outputs": [
        {
          "output_type": "execute_result",
          "data": {
            "text/html": [
              "<div>\n",
              "<style scoped>\n",
              "    .dataframe tbody tr th:only-of-type {\n",
              "        vertical-align: middle;\n",
              "    }\n",
              "\n",
              "    .dataframe tbody tr th {\n",
              "        vertical-align: top;\n",
              "    }\n",
              "\n",
              "    .dataframe thead th {\n",
              "        text-align: right;\n",
              "    }\n",
              "</style>\n",
              "<table border=\"1\" class=\"dataframe\">\n",
              "  <thead>\n",
              "    <tr style=\"text-align: right;\">\n",
              "      <th></th>\n",
              "      <th>Recency</th>\n",
              "      <th>Frequency</th>\n",
              "      <th>MonetaryValue</th>\n",
              "      <th>ID</th>\n",
              "      <th>Cluster</th>\n",
              "    </tr>\n",
              "  </thead>\n",
              "  <tbody>\n",
              "    <tr>\n",
              "      <th>0</th>\n",
              "      <td>-0.493794</td>\n",
              "      <td>1.012426</td>\n",
              "      <td>1.017503</td>\n",
              "      <td>12347.0</td>\n",
              "      <td>2</td>\n",
              "    </tr>\n",
              "    <tr>\n",
              "      <th>1</th>\n",
              "      <td>1.232949</td>\n",
              "      <td>-0.017412</td>\n",
              "      <td>0.925115</td>\n",
              "      <td>12348.0</td>\n",
              "      <td>1</td>\n",
              "    </tr>\n",
              "    <tr>\n",
              "      <th>2</th>\n",
              "      <td>-0.994917</td>\n",
              "      <td>-0.017412</td>\n",
              "      <td>1.972690</td>\n",
              "      <td>12349.0</td>\n",
              "      <td>2</td>\n",
              "    </tr>\n",
              "    <tr>\n",
              "      <th>3</th>\n",
              "      <td>-0.012582</td>\n",
              "      <td>1.012426</td>\n",
              "      <td>0.572565</td>\n",
              "      <td>12352.0</td>\n",
              "      <td>2</td>\n",
              "    </tr>\n",
              "    <tr>\n",
              "      <th>4</th>\n",
              "      <td>1.155005</td>\n",
              "      <td>-0.017412</td>\n",
              "      <td>-0.056441</td>\n",
              "      <td>12354.0</td>\n",
              "      <td>1</td>\n",
              "    </tr>\n",
              "  </tbody>\n",
              "</table>\n",
              "</div>"
            ],
            "text/plain": [
              "    Recency  Frequency  MonetaryValue       ID  Cluster\n",
              "0 -0.493794   1.012426       1.017503  12347.0        2\n",
              "1  1.232949  -0.017412       0.925115  12348.0        1\n",
              "2 -0.994917  -0.017412       1.972690  12349.0        2\n",
              "3 -0.012582   1.012426       0.572565  12352.0        2\n",
              "4  1.155005  -0.017412      -0.056441  12354.0        1"
            ]
          },
          "metadata": {
            "tags": []
          },
          "execution_count": 43
        }
      ]
    },
    {
      "cell_type": "code",
      "metadata": {
        "colab": {
          "base_uri": "https://localhost:8080/",
          "height": 195
        },
        "id": "6kYyU0BAdxAa",
        "outputId": "29fba832-c4d2-4738-8643-25fcfc684176"
      },
      "source": [
        "# Melt The Data\r\n",
        "df_nor_melt = pd.melt(df_normalized.reset_index(),\r\n",
        "                      id_vars=['ID', 'Cluster'],\r\n",
        "                      value_vars=['Frequency','MonetaryValue','Recency'],\r\n",
        "                      var_name='Attribute',\r\n",
        "                      value_name='Value')\r\n",
        "df_nor_melt.head()"
      ],
      "execution_count": 44,
      "outputs": [
        {
          "output_type": "execute_result",
          "data": {
            "text/html": [
              "<div>\n",
              "<style scoped>\n",
              "    .dataframe tbody tr th:only-of-type {\n",
              "        vertical-align: middle;\n",
              "    }\n",
              "\n",
              "    .dataframe tbody tr th {\n",
              "        vertical-align: top;\n",
              "    }\n",
              "\n",
              "    .dataframe thead th {\n",
              "        text-align: right;\n",
              "    }\n",
              "</style>\n",
              "<table border=\"1\" class=\"dataframe\">\n",
              "  <thead>\n",
              "    <tr style=\"text-align: right;\">\n",
              "      <th></th>\n",
              "      <th>ID</th>\n",
              "      <th>Cluster</th>\n",
              "      <th>Attribute</th>\n",
              "      <th>Value</th>\n",
              "    </tr>\n",
              "  </thead>\n",
              "  <tbody>\n",
              "    <tr>\n",
              "      <th>0</th>\n",
              "      <td>12347.0</td>\n",
              "      <td>2</td>\n",
              "      <td>Frequency</td>\n",
              "      <td>1.012426</td>\n",
              "    </tr>\n",
              "    <tr>\n",
              "      <th>1</th>\n",
              "      <td>12348.0</td>\n",
              "      <td>1</td>\n",
              "      <td>Frequency</td>\n",
              "      <td>-0.017412</td>\n",
              "    </tr>\n",
              "    <tr>\n",
              "      <th>2</th>\n",
              "      <td>12349.0</td>\n",
              "      <td>2</td>\n",
              "      <td>Frequency</td>\n",
              "      <td>-0.017412</td>\n",
              "    </tr>\n",
              "    <tr>\n",
              "      <th>3</th>\n",
              "      <td>12352.0</td>\n",
              "      <td>2</td>\n",
              "      <td>Frequency</td>\n",
              "      <td>1.012426</td>\n",
              "    </tr>\n",
              "    <tr>\n",
              "      <th>4</th>\n",
              "      <td>12354.0</td>\n",
              "      <td>1</td>\n",
              "      <td>Frequency</td>\n",
              "      <td>-0.017412</td>\n",
              "    </tr>\n",
              "  </tbody>\n",
              "</table>\n",
              "</div>"
            ],
            "text/plain": [
              "        ID  Cluster  Attribute     Value\n",
              "0  12347.0        2  Frequency  1.012426\n",
              "1  12348.0        1  Frequency -0.017412\n",
              "2  12349.0        2  Frequency -0.017412\n",
              "3  12352.0        2  Frequency  1.012426\n",
              "4  12354.0        1  Frequency -0.017412"
            ]
          },
          "metadata": {
            "tags": []
          },
          "execution_count": 44
        }
      ]
    },
    {
      "cell_type": "code",
      "metadata": {
        "colab": {
          "base_uri": "https://localhost:8080/",
          "height": 296
        },
        "id": "18R57g0pd68H",
        "outputId": "ceecc40b-80eb-464c-fe1c-ab4590d2233f"
      },
      "source": [
        "#snake plot\r\n",
        "sns.lineplot('Attribute', 'Value', hue='Cluster', data=df_nor_melt,palette=\"bright\")"
      ],
      "execution_count": 64,
      "outputs": [
        {
          "output_type": "execute_result",
          "data": {
            "text/plain": [
              "<matplotlib.axes._subplots.AxesSubplot at 0x7f691902bb00>"
            ]
          },
          "metadata": {
            "tags": []
          },
          "execution_count": 64
        },
        {
          "output_type": "display_data",
          "data": {
            "image/png": "[encoded data removed]",
            "text/plain": [
              "<Figure size 432x288 with 1 Axes>"
            ]
          },
          "metadata": {
            "tags": [],
            "needs_background": "light"
          }
        }
      ]
    },
    {
      "cell_type": "code",
      "metadata": {
        "colab": {
          "base_uri": "https://localhost:8080/",
          "height": 195
        },
        "id": "6FuEvbM_d96W",
        "outputId": "5fbce9de-08f4-4735-fea8-d7e2458e100f"
      },
      "source": [
        "customers.groupby('Cluster').agg({\r\n",
        "    'Recency':'mean',\r\n",
        "    'Frequency':'mean',\r\n",
        "    'MonetaryValue':['mean', 'count']}).round(1)"
      ],
      "execution_count": 46,
      "outputs": [
        {
          "output_type": "execute_result",
          "data": {
            "text/html": [
              "<div>\n",
              "<style scoped>\n",
              "    .dataframe tbody tr th:only-of-type {\n",
              "        vertical-align: middle;\n",
              "    }\n",
              "\n",
              "    .dataframe tbody tr th {\n",
              "        vertical-align: top;\n",
              "    }\n",
              "\n",
              "    .dataframe thead tr th {\n",
              "        text-align: left;\n",
              "    }\n",
              "\n",
              "    .dataframe thead tr:last-of-type th {\n",
              "        text-align: right;\n",
              "    }\n",
              "</style>\n",
              "<table border=\"1\" class=\"dataframe\">\n",
              "  <thead>\n",
              "    <tr>\n",
              "      <th></th>\n",
              "      <th>Recency</th>\n",
              "      <th>Frequency</th>\n",
              "      <th colspan=\"2\" halign=\"left\">MonetaryValue</th>\n",
              "    </tr>\n",
              "    <tr>\n",
              "      <th></th>\n",
              "      <th>mean</th>\n",
              "      <th>mean</th>\n",
              "      <th>mean</th>\n",
              "      <th>count</th>\n",
              "    </tr>\n",
              "    <tr>\n",
              "      <th>Cluster</th>\n",
              "      <th></th>\n",
              "      <th></th>\n",
              "      <th></th>\n",
              "      <th></th>\n",
              "    </tr>\n",
              "  </thead>\n",
              "  <tbody>\n",
              "    <tr>\n",
              "      <th>0</th>\n",
              "      <td>47.3</td>\n",
              "      <td>1.6</td>\n",
              "      <td>21.6</td>\n",
              "      <td>808</td>\n",
              "    </tr>\n",
              "    <tr>\n",
              "      <th>1</th>\n",
              "      <td>226.8</td>\n",
              "      <td>1.6</td>\n",
              "      <td>28.7</td>\n",
              "      <td>959</td>\n",
              "    </tr>\n",
              "    <tr>\n",
              "      <th>2</th>\n",
              "      <td>46.3</td>\n",
              "      <td>7.7</td>\n",
              "      <td>165.9</td>\n",
              "      <td>923</td>\n",
              "    </tr>\n",
              "  </tbody>\n",
              "</table>\n",
              "</div>"
            ],
            "text/plain": [
              "        Recency Frequency MonetaryValue      \n",
              "           mean      mean          mean count\n",
              "Cluster                                      \n",
              "0          47.3       1.6          21.6   808\n",
              "1         226.8       1.6          28.7   959\n",
              "2          46.3       7.7         165.9   923"
            ]
          },
          "metadata": {
            "tags": []
          },
          "execution_count": 46
        }
      ]
    },
    {
      "cell_type": "code",
      "metadata": {
        "colab": {
          "base_uri": "https://localhost:8080/",
          "height": 166
        },
        "id": "ekLzmCWTeDP1",
        "outputId": "ab7af8d2-ef32-47f7-ad33-661104594ddc"
      },
      "source": [
        "cluster_avg = customers.groupby('Cluster').mean()\r\n",
        "population_avg = customers.mean()\r\n",
        "relative_imp = cluster_avg / population_avg - 1\r\n",
        "relative_imp"
      ],
      "execution_count": 47,
      "outputs": [
        {
          "output_type": "execute_result",
          "data": {
            "text/html": [
              "<div>\n",
              "<style scoped>\n",
              "    .dataframe tbody tr th:only-of-type {\n",
              "        vertical-align: middle;\n",
              "    }\n",
              "\n",
              "    .dataframe tbody tr th {\n",
              "        vertical-align: top;\n",
              "    }\n",
              "\n",
              "    .dataframe thead th {\n",
              "        text-align: right;\n",
              "    }\n",
              "</style>\n",
              "<table border=\"1\" class=\"dataframe\">\n",
              "  <thead>\n",
              "    <tr style=\"text-align: right;\">\n",
              "      <th></th>\n",
              "      <th>Cluster</th>\n",
              "      <th>Frequency</th>\n",
              "      <th>MonetaryValue</th>\n",
              "      <th>Recency</th>\n",
              "    </tr>\n",
              "    <tr>\n",
              "      <th>Cluster</th>\n",
              "      <th></th>\n",
              "      <th></th>\n",
              "      <th></th>\n",
              "      <th></th>\n",
              "    </tr>\n",
              "  </thead>\n",
              "  <tbody>\n",
              "    <tr>\n",
              "      <th>0</th>\n",
              "      <td>NaN</td>\n",
              "      <td>-0.566204</td>\n",
              "      <td>-0.707029</td>\n",
              "      <td>-0.573681</td>\n",
              "    </tr>\n",
              "    <tr>\n",
              "      <th>1</th>\n",
              "      <td>NaN</td>\n",
              "      <td>-0.557931</td>\n",
              "      <td>-0.610662</td>\n",
              "      <td>1.044171</td>\n",
              "    </tr>\n",
              "    <tr>\n",
              "      <th>2</th>\n",
              "      <td>NaN</td>\n",
              "      <td>1.075351</td>\n",
              "      <td>1.253417</td>\n",
              "      <td>-0.582693</td>\n",
              "    </tr>\n",
              "  </tbody>\n",
              "</table>\n",
              "</div>"
            ],
            "text/plain": [
              "         Cluster  Frequency  MonetaryValue   Recency\n",
              "Cluster                                             \n",
              "0            NaN  -0.566204      -0.707029 -0.573681\n",
              "1            NaN  -0.557931      -0.610662  1.044171\n",
              "2            NaN   1.075351       1.253417 -0.582693"
            ]
          },
          "metadata": {
            "tags": []
          },
          "execution_count": 47
        }
      ]
    }
  ]
}